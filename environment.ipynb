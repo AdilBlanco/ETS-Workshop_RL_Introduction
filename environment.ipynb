{
 "cells": [
  {
   "cell_type": "code",
   "execution_count": 1,
   "metadata": {
    "collapsed": true
   },
   "outputs": [],
   "source": [
    "import gym\n",
    "\n",
    "env = gym.make('Breakout-ram-v4')\n",
    "\n",
    "for epoch in range(20):\n",
    "    env.reset()\n",
    "    while True:\n",
    "        obs, reward, is_done, _ = env.step(env.action_space.sample())\n",
    "        env.render()\n",
    "        if is_done:\n",
    "            break\n",
    "env.close()"
   ]
  },
  {
   "cell_type": "code",
   "execution_count": 1,
   "metadata": {
    "scrolled": false
   },
   "outputs": [
    {
     "data": {
      "image/png": "[encoded data removed]",
      "text/plain": [
       "<matplotlib.figure.Figure at 0x105390b70>"
      ]
     },
     "metadata": {},
     "output_type": "display_data"
    }
   ],
   "source": [
    "%matplotlib inline\n",
    "\n",
    "import matplotlib\n",
    "import numpy as np\n",
    "import matplotlib.pyplot as plt\n",
    "\n",
    "x = np.linspace(0, 10)\n",
    "line, = plt.plot(x, np.sin(x), '--', linewidth=2)"
   ]
  },
  {
   "cell_type": "code",
   "execution_count": 4,
   "metadata": {},
   "outputs": [
    {
     "name": "stdout",
     "output_type": "stream",
     "text": [
      "tensor([[ 0.3009, -0.7444,  1.1685, -1.3475,  0.4704],\n",
      "        [ 0.0283,  0.3190, -1.2553,  0.3941,  1.4428],\n",
      "        [ 0.4719,  0.3094,  2.0280, -1.1343, -1.2726],\n",
      "        [ 0.2151, -0.0322,  0.3698,  0.3600, -1.0877],\n",
      "        [-0.4677, -0.3697,  0.6569, -1.0658,  0.1581]])\n",
      "tensor([[-1.8010,  0.6320, -0.2711,  1.5648,  0.4533],\n",
      "        [ 1.4375, -0.7841,  2.0965, -0.7624, -0.4323],\n",
      "        [ 1.8054,  0.6241, -1.1483,  0.4874, -0.4584],\n",
      "        [ 0.0001, -0.7754,  2.0925, -0.6074,  0.7877],\n",
      "        [ 2.4407, -0.3224, -0.3398, -0.5177,  0.9631]])\n",
      "tensor([[ 0.9282,  0.9836, -1.0000,  0.9749, -0.5953],\n",
      "        [ 0.9306, -0.9454,  0.9848, -0.9465,  0.9732],\n",
      "        [ 0.1492,  0.9893, -0.9989,  0.9932, -0.9947],\n",
      "        [-0.9843,  0.4329,  0.5171,  0.7093, -0.6763],\n",
      "        [ 0.9547,  0.8274, -0.9987,  0.4100, -0.7781]])\n"
     ]
    }
   ],
   "source": [
    "import torch\n",
    "\n",
    "device = torch.device('cpu')\n",
    "dtype = torch.float\n",
    "\n",
    "matrix_a = torch.randn(5, 5)\n",
    "matrix_b = torch.randn(5, 5)\n",
    "activation = torch.nn.Tanh()\n",
    "\n",
    "activated = activation(matrix_a.mm(matrix_b))\n",
    "\n",
    "print(matrix_a)\n",
    "print(matrix_b)\n",
    "print(activated)"
   ]
  },
  {
   "cell_type": "code",
   "execution_count": null,
   "metadata": {
    "collapsed": true
   },
   "outputs": [],
   "source": []
  }
 ],
 "metadata": {
  "kernelspec": {
   "display_name": "Python 2",
   "language": "python",
   "name": "python2"
  },
  "language_info": {
   "codemirror_mode": {
    "name": "ipython",
    "version": 3
   },
   "file_extension": ".py",
   "mimetype": "text/x-python",
   "name": "python",
   "nbconvert_exporter": "python",
   "pygments_lexer": "ipython3",
   "version": "3.6.1"
  }
 },
 "nbformat": 4,
 "nbformat_minor": 2
}
